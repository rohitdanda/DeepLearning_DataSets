{
  "nbformat": 4,
  "nbformat_minor": 0,
  "metadata": {
    "colab": {
      "name": "Cifar10_Keras.ipynb",
      "provenance": [],
      "collapsed_sections": [],
      "authorship_tag": "ABX9TyMOJsbVONy1bYOV2wS3zIWI",
      "include_colab_link": true
    },
    "kernelspec": {
      "name": "python3",
      "display_name": "Python 3"
    },
    "accelerator": "GPU"
  },
  "cells": [
    {
      "cell_type": "markdown",
      "metadata": {
        "id": "view-in-github",
        "colab_type": "text"
      },
      "source": [
        "<a href=\"https://colab.research.google.com/github/rohitdanda/DeepLearning_DataSets/blob/master/Cifar10_Keras.ipynb\" target=\"_parent\"><img src=\"https://colab.research.google.com/assets/colab-badge.svg\" alt=\"Open In Colab\"/></a>"
      ]
    },
    {
      "cell_type": "markdown",
      "metadata": {
        "id": "r0KrPcYJg3bF",
        "colab_type": "text"
      },
      "source": [
        "Importing the data set from keras ciraf10 "
      ]
    },
    {
      "cell_type": "code",
      "metadata": {
        "id": "H_7AmuERgv3j",
        "colab_type": "code",
        "colab": {
          "base_uri": "https://localhost:8080/",
          "height": 54
        },
        "outputId": "3ab5f322-a0e3-46e0-e06d-68314b04dfda"
      },
      "source": [
        "from keras.datasets import cifar10\n",
        "\n",
        "(x_train,y_train),(x_test,y_test) = cifar10.load_data()"
      ],
      "execution_count": 1,
      "outputs": [
        {
          "output_type": "stream",
          "text": [
            "Downloading data from https://www.cs.toronto.edu/~kriz/cifar-10-python.tar.gz\n",
            "170500096/170498071 [==============================] - 4s 0us/step\n"
          ],
          "name": "stdout"
        }
      ]
    },
    {
      "cell_type": "code",
      "metadata": {
        "id": "SQURcHi3hO57",
        "colab_type": "code",
        "colab": {
          "base_uri": "https://localhost:8080/",
          "height": 36
        },
        "outputId": "efa89a16-e370-4a8c-bfb8-c7e6488865b3"
      },
      "source": [
        "x_train.shape"
      ],
      "execution_count": 2,
      "outputs": [
        {
          "output_type": "execute_result",
          "data": {
            "text/plain": [
              "(50000, 32, 32, 3)"
            ]
          },
          "metadata": {
            "tags": []
          },
          "execution_count": 2
        }
      ]
    },
    {
      "cell_type": "markdown",
      "metadata": {
        "id": "tHbq3KKgh2l5",
        "colab_type": "text"
      },
      "source": [
        "After watching the dataset shape and data we need to one hot encoder the labels and normalize the pixel values as train data already had the color channel"
      ]
    },
    {
      "cell_type": "code",
      "metadata": {
        "id": "YryJPX7RiArm",
        "colab_type": "code",
        "colab": {
          "base_uri": "https://localhost:8080/",
          "height": 36
        },
        "outputId": "3bc380d3-5d19-4f97-ab3c-c106857f3b22"
      },
      "source": [
        "from keras.utils.np_utils import to_categorical\n",
        "y_cat_train = to_categorical(y_train,10)\n",
        "y_cat_test = to_categorical(y_test,10)\n",
        "\n",
        "y_cat_train.shape\n",
        "y_train.shape"
      ],
      "execution_count": 57,
      "outputs": [
        {
          "output_type": "execute_result",
          "data": {
            "text/plain": [
              "(50000, 1)"
            ]
          },
          "metadata": {
            "tags": []
          },
          "execution_count": 57
        }
      ]
    },
    {
      "cell_type": "code",
      "metadata": {
        "id": "vnbKlEcuifyf",
        "colab_type": "code",
        "colab": {
          "base_uri": "https://localhost:8080/",
          "height": 285
        },
        "outputId": "80b8eb59-debb-4cc0-aa34-d39f3d38ae47"
      },
      "source": [
        "import matplotlib.pyplot as plt\n",
        "\n",
        "plt.imshow(x_train[0])"
      ],
      "execution_count": 12,
      "outputs": [
        {
          "output_type": "execute_result",
          "data": {
            "text/plain": [
              "<matplotlib.image.AxesImage at 0x7f54908cd3c8>"
            ]
          },
          "metadata": {
            "tags": []
          },
          "execution_count": 12
        },
        {
          "output_type": "display_data",
          "data": {
            "image/png": "[encoded data removed]",
            "text/plain": [
              "<Figure size 432x288 with 1 Axes>"
            ]
          },
          "metadata": {
            "tags": []
          }
        }
      ]
    },
    {
      "cell_type": "code",
      "metadata": {
        "id": "EFOB-XwRiQQA",
        "colab_type": "code",
        "colab": {}
      },
      "source": [
        "x_train = x_train/x_train.max()\n",
        "x_test = x_test/x_test.max()"
      ],
      "execution_count": 0,
      "outputs": []
    },
    {
      "cell_type": "markdown",
      "metadata": {
        "id": "GgkLOUUhi4Ly",
        "colab_type": "text"
      },
      "source": [
        "cleaning the data was finish we need to import the model and layers"
      ]
    },
    {
      "cell_type": "code",
      "metadata": {
        "id": "scgQqiH-i2fC",
        "colab_type": "code",
        "colab": {}
      },
      "source": [
        "from keras.models import Sequential\n",
        "from keras.layers import Dense,Conv2D,MaxPool2D,Flatten,Dropout\n",
        "\n",
        "model = Sequential()\n",
        "model.add(Conv2D(filters=128,kernel_size=(4,4),input_shape=(32,32,3),activation='relu'))\n",
        "model.add(MaxPool2D(pool_size=(2,2)))\n",
        "model.add(Dropout(0.3))\n",
        "model.add(Conv2D(filters=128,kernel_size=(4,4),activation='relu'))\n",
        "model.add(MaxPool2D(pool_size=(2,2)))\n",
        "model.add(Dropout(0.3))\n",
        "model.add(Flatten())\n",
        "model.add(Dense(1024,activation='relu'))\n",
        "model.add(Dense(10,activation='softmax'))"
      ],
      "execution_count": 0,
      "outputs": []
    },
    {
      "cell_type": "code",
      "metadata": {
        "id": "RSRYuNh-kCxc",
        "colab_type": "code",
        "colab": {}
      },
      "source": [
        "model.compile(optimizer='adam',loss='categorical_crossentropy',metrics=['accuracy'])"
      ],
      "execution_count": 0,
      "outputs": []
    },
    {
      "cell_type": "code",
      "metadata": {
        "id": "LqPCBCwzkQyr",
        "colab_type": "code",
        "colab": {
          "base_uri": "https://localhost:8080/",
          "height": 778
        },
        "outputId": "4a5f7def-d76d-48fd-da31-d812eb7cdcf3"
      },
      "source": [
        "model.fit(x_train,y_cat_train,epochs=20,verbose=2)"
      ],
      "execution_count": 107,
      "outputs": [
        {
          "output_type": "stream",
          "text": [
            "Epoch 1/20\n",
            " - 13s - loss: 1.6182 - acc: 0.4080\n",
            "Epoch 2/20\n",
            " - 11s - loss: 1.3210 - acc: 0.5314\n",
            "Epoch 3/20\n",
            " - 11s - loss: 1.1927 - acc: 0.5764\n",
            "Epoch 4/20\n",
            " - 11s - loss: 1.0805 - acc: 0.6194\n",
            "Epoch 5/20\n",
            " - 11s - loss: 0.9906 - acc: 0.6527\n",
            "Epoch 6/20\n",
            " - 11s - loss: 0.9186 - acc: 0.6780\n",
            "Epoch 7/20\n",
            " - 11s - loss: 0.8545 - acc: 0.7020\n",
            "Epoch 8/20\n",
            " - 11s - loss: 0.7907 - acc: 0.7254\n",
            "Epoch 9/20\n",
            " - 11s - loss: 0.7294 - acc: 0.7441\n",
            "Epoch 10/20\n",
            " - 11s - loss: 0.6788 - acc: 0.7608\n",
            "Epoch 11/20\n",
            " - 11s - loss: 0.6368 - acc: 0.7756\n",
            "Epoch 12/20\n",
            " - 11s - loss: 0.5945 - acc: 0.7911\n",
            "Epoch 13/20\n",
            " - 11s - loss: 0.5495 - acc: 0.8076\n",
            "Epoch 14/20\n",
            " - 11s - loss: 0.5167 - acc: 0.8208\n",
            "Epoch 15/20\n",
            " - 11s - loss: 0.4953 - acc: 0.8285\n",
            "Epoch 16/20\n",
            " - 11s - loss: 0.4656 - acc: 0.8379\n",
            "Epoch 17/20\n",
            " - 11s - loss: 0.4424 - acc: 0.8467\n",
            "Epoch 18/20\n",
            " - 11s - loss: 0.4150 - acc: 0.8573\n",
            "Epoch 19/20\n",
            " - 11s - loss: 0.4012 - acc: 0.8623\n",
            "Epoch 20/20\n",
            " - 11s - loss: 0.3704 - acc: 0.8736\n"
          ],
          "name": "stdout"
        },
        {
          "output_type": "execute_result",
          "data": {
            "text/plain": [
              "<keras.callbacks.History at 0x7f53f70e7eb8>"
            ]
          },
          "metadata": {
            "tags": []
          },
          "execution_count": 107
        }
      ]
    },
    {
      "cell_type": "code",
      "metadata": {
        "id": "GTjNDbVWkkCA",
        "colab_type": "code",
        "colab": {
          "base_uri": "https://localhost:8080/",
          "height": 54
        },
        "outputId": "6cc9edb0-34e9-4139-be59-7fc0b28d5551"
      },
      "source": [
        "model.evaluate(x_test,y_cat_test)"
      ],
      "execution_count": 108,
      "outputs": [
        {
          "output_type": "stream",
          "text": [
            "10000/10000 [==============================] - 2s 152us/step\n"
          ],
          "name": "stdout"
        },
        {
          "output_type": "execute_result",
          "data": {
            "text/plain": [
              "[1.0617257992744447, 0.7002]"
            ]
          },
          "metadata": {
            "tags": []
          },
          "execution_count": 108
        }
      ]
    },
    {
      "cell_type": "code",
      "metadata": {
        "id": "LqvJXBWlp9tw",
        "colab_type": "code",
        "colab": {
          "base_uri": "https://localhost:8080/",
          "height": 333
        },
        "outputId": "d18418fb-52ed-4f6f-92a0-957786757f4f"
      },
      "source": [
        "from sklearn.metrics import classification_report\n",
        "predict = model.predict_classes(x_test)\n",
        "print(classification_report(y_test,predict))"
      ],
      "execution_count": 110,
      "outputs": [
        {
          "output_type": "stream",
          "text": [
            "              precision    recall  f1-score   support\n",
            "\n",
            "           0       0.76      0.69      0.73      1000\n",
            "           1       0.86      0.81      0.83      1000\n",
            "           2       0.66      0.57      0.61      1000\n",
            "           3       0.49      0.51      0.50      1000\n",
            "           4       0.65      0.63      0.64      1000\n",
            "           5       0.60      0.59      0.59      1000\n",
            "           6       0.75      0.79      0.77      1000\n",
            "           7       0.75      0.77      0.76      1000\n",
            "           8       0.76      0.83      0.80      1000\n",
            "           9       0.73      0.81      0.77      1000\n",
            "\n",
            "    accuracy                           0.70     10000\n",
            "   macro avg       0.70      0.70      0.70     10000\n",
            "weighted avg       0.70      0.70      0.70     10000\n",
            "\n"
          ],
          "name": "stdout"
        }
      ]
    },
    {
      "cell_type": "code",
      "metadata": {
        "id": "pZ_lfd3g9tdc",
        "colab_type": "code",
        "colab": {}
      },
      "source": [
        ""
      ],
      "execution_count": 0,
      "outputs": []
    },
    {
      "cell_type": "code",
      "metadata": {
        "id": "oIpAEkMNkWsB",
        "colab_type": "code",
        "colab": {}
      },
      "source": [
        ""
      ],
      "execution_count": 0,
      "outputs": []
    }
  ]
}